{
 "cells": [
  {
   "cell_type": "code",
   "execution_count": null,
   "metadata": {
    "executionInfo": {
     "elapsed": 2517,
     "status": "ok",
     "timestamp": 1747392155229,
     "user": {
      "displayName": "MohammadJavad Vaez",
      "userId": "02324419329005506262"
     },
     "user_tz": -210
    },
    "id": "W9qri_MDROQp"
   },
   "outputs": [],
   "source": [
    "import numpy as np\n",
    "import os\n",
    "\n",
    "from scipy.spatial import distance\n",
    "import matplotlib.pyplot as plt\n",
    "import networkx as nx\n",
    "import copy\n",
    "from scipy import stats\n",
    "from copy import deepcopy\n",
    "import time\n",
    "import re\n",
    "#check\n"
   ]
  },
  {
   "cell_type": "code",
   "execution_count": 2,
   "metadata": {
    "executionInfo": {
     "elapsed": 6,
     "status": "ok",
     "timestamp": 1747392161292,
     "user": {
      "displayName": "MohammadJavad Vaez",
      "userId": "02324419329005506262"
     },
     "user_tz": -210
    },
    "id": "LHe_1DOfRS67"
   },
   "outputs": [],
   "source": [
    "def sorted_alphanumeric(data):\n",
    "    convert = lambda text: int(text) if text.isdigit() else text.lower()\n",
    "    alphanum_key = lambda key: [ convert(c) for c in re.split('([0-9]+)', key) ]\n",
    "    return sorted(data, key=alphanum_key)"
   ]
  },
  {
   "cell_type": "code",
   "execution_count": 3,
   "metadata": {
    "executionInfo": {
     "elapsed": 2343,
     "status": "ok",
     "timestamp": 1747392171211,
     "user": {
      "displayName": "MohammadJavad Vaez",
      "userId": "02324419329005506262"
     },
     "user_tz": -210
    },
    "id": "IoHjRj5mRg89"
   },
   "outputs": [],
   "source": [
    "def extract_position(fname):\n",
    "    neuron_data = np.loadtxt(fname)\n",
    "    #print(fname)\n",
    "    #print(neuron_data.shape)\n",
    "    if neuron_data.ndim == 1:#  there exists files which do not have any neurites\n",
    "        return np.zeros((1,3)), neuron_data[2:5]\n",
    "    #else:\n",
    "    soma = neuron_data[0,2:5] # considering only the positions/coordinates\n",
    "    #print(soma)\n",
    "    neurites = neuron_data[1:,2:5]\n",
    "    return neurites,soma # neurites refers to either axon terminals/dendrites. It is a loose term."
   ]
  },
  {
   "cell_type": "code",
   "execution_count": 4,
   "metadata": {
    "executionInfo": {
     "elapsed": 4,
     "status": "ok",
     "timestamp": 1747392172999,
     "user": {
      "displayName": "MohammadJavad Vaez",
      "userId": "02324419329005506262"
     },
     "user_tz": -210
    },
    "id": "uGlCJ2PERiVd"
   },
   "outputs": [],
   "source": [
    "def count_connections(axonTerminalsA, dendritesB, synaptic_cleft):\n",
    "    # cdist is used to calculate euclidean distance between axon terminals and neurites\n",
    "    # dist_axonTerminalsA_dendritesB is 2d array of dimension nrows(axonTerminalsA) x nrows(dendritesB)\n",
    "    dist_axonTerminalsA_dendritesB = distance.cdist(axonTerminalsA, dendritesB)\n",
    "    #count all the dist less than 3um as a connection btw axon terminal A and dendrite B\n",
    "    connections = np.count_nonzero(dist_axonTerminalsA_dendritesB <= synaptic_cleft)\n",
    "    return connections"
   ]
  },
  {
   "cell_type": "code",
   "execution_count": 5,
   "metadata": {
    "executionInfo": {
     "elapsed": 4305,
     "status": "ok",
     "timestamp": 1747392193654,
     "user": {
      "displayName": "MohammadJavad Vaez",
      "userId": "02324419329005506262"
     },
     "user_tz": -210
    },
    "id": "lwvnhuUNSLtC"
   },
   "outputs": [],
   "source": [
    "def extract_adjacency(file_path_axon, file_path_dendrite, synaptic_cleft):\n",
    "\n",
    "    file_list_axon=[f for f in sorted_alphanumeric(os.listdir(file_path_axon)) if f.endswith('.swc')\n",
    "                and os.path.isfile(os.path.join(file_path_axon, f))]\n",
    "    file_list_dendrite=[f for f in sorted_alphanumeric(os.listdir(file_path_dendrite)) if f.endswith('.swc')\n",
    "                        and os.path.isfile(os.path.join(file_path_dendrite, f))]# redundant but simply taken\n",
    "\n",
    "    neuron_names = []\n",
    "    n_neurons = len(file_list_axon)\n",
    "    adjacency = np.zeros((n_neurons,n_neurons))\n",
    "\n",
    "    start = time.time()\n",
    "    counter = 0\n",
    "\n",
    "\n",
    "    for i in range(n_neurons):\n",
    "        j_list = list(range(i+1, n_neurons))\n",
    "\n",
    "        for j in j_list:\n",
    "\n",
    "            axonTerminalsA, somaA = extract_position(file_path_axon+file_list_axon[i])\n",
    "            dendritesB, somaB = extract_position(file_path_dendrite+file_list_dendrite[j])\n",
    "\n",
    "            axonTerminalsB, somaB = extract_position(file_path_axon+file_list_axon[j])\n",
    "            dendritesA, somaA = extract_position(file_path_dendrite+file_list_dendrite[i])\n",
    "\n",
    "\n",
    "            if np.all(axonTerminalsA==0):\n",
    "                adjacency[i,j] = 0\n",
    "            else:\n",
    "                adjacency[i,j] = count_connections(axonTerminalsA, dendritesB, synaptic_cleft)\n",
    "\n",
    "            if np.all(axonTerminalsB==0):\n",
    "                adjacency[j,i] = 0\n",
    "            else:\n",
    "                adjacency[j,i] = count_connections(axonTerminalsB, dendritesA, synaptic_cleft)\n",
    "\n",
    "        counter+=1\n",
    "\n",
    "        if (counter%100)==0:\n",
    "            end=time.time()\n",
    "            print(i, \"%.3f min\"%((end-start)/60))\n",
    "            start = time.time()\n",
    "\n",
    "        neuron_names.append(file_list_axon[i][:-4])\n",
    "\n",
    "    return adjacency, neuron_names"
   ]
  },
  {
   "cell_type": "code",
   "execution_count": 6,
   "metadata": {
    "colab": {
     "base_uri": "https://localhost:8080/",
     "height": 297
    },
    "executionInfo": {
     "elapsed": 38,
     "status": "error",
     "timestamp": 1747392201147,
     "user": {
      "displayName": "MohammadJavad Vaez",
      "userId": "02324419329005506262"
     },
     "user_tz": -210
    },
    "id": "WWa9SvoPSNqV",
    "outputId": "f35b9b1c-cbf7-4aaf-9e04-edfbd6e97148"
   },
   "outputs": [
    {
     "ename": "FileNotFoundError",
     "evalue": "[Errno 2] No such file or directory: './dendrites_axonTermials/axon_terminals/'",
     "output_type": "error",
     "traceback": [
      "\u001b[0;31m---------------------------------------------------------------------------\u001b[0m",
      "\u001b[0;31mFileNotFoundError\u001b[0m                         Traceback (most recent call last)",
      "\u001b[0;32m<ipython-input-6-99b07220d816>\u001b[0m in \u001b[0;36m<cell line: 0>\u001b[0;34m()\u001b[0m\n\u001b[1;32m      3\u001b[0m \u001b[0msynaptic_cleft\u001b[0m\u001b[0;34m=\u001b[0m\u001b[0;36m5\u001b[0m\u001b[0;34m\u001b[0m\u001b[0;34m\u001b[0m\u001b[0m\n\u001b[1;32m      4\u001b[0m \u001b[0;34m\u001b[0m\u001b[0m\n\u001b[0;32m----> 5\u001b[0;31m \u001b[0madjacency\u001b[0m\u001b[0;34m,\u001b[0m \u001b[0mneuron_names\u001b[0m \u001b[0;34m=\u001b[0m \u001b[0mextract_adjacency\u001b[0m\u001b[0;34m(\u001b[0m\u001b[0mfile_path_axon\u001b[0m\u001b[0;34m,\u001b[0m \u001b[0mfile_path_dendrite\u001b[0m\u001b[0;34m,\u001b[0m \u001b[0msynaptic_cleft\u001b[0m\u001b[0;34m=\u001b[0m\u001b[0msynaptic_cleft\u001b[0m\u001b[0;34m)\u001b[0m\u001b[0;34m\u001b[0m\u001b[0;34m\u001b[0m\u001b[0m\n\u001b[0m",
      "\u001b[0;32m<ipython-input-5-61052d3f1d61>\u001b[0m in \u001b[0;36mextract_adjacency\u001b[0;34m(file_path_axon, file_path_dendrite, synaptic_cleft)\u001b[0m\n\u001b[1;32m      1\u001b[0m \u001b[0;32mdef\u001b[0m \u001b[0mextract_adjacency\u001b[0m\u001b[0;34m(\u001b[0m\u001b[0mfile_path_axon\u001b[0m\u001b[0;34m,\u001b[0m \u001b[0mfile_path_dendrite\u001b[0m\u001b[0;34m,\u001b[0m \u001b[0msynaptic_cleft\u001b[0m\u001b[0;34m)\u001b[0m\u001b[0;34m:\u001b[0m\u001b[0;34m\u001b[0m\u001b[0;34m\u001b[0m\u001b[0m\n\u001b[1;32m      2\u001b[0m \u001b[0;34m\u001b[0m\u001b[0m\n\u001b[0;32m----> 3\u001b[0;31m     file_list_axon=[f for f in sorted_alphanumeric(os.listdir(file_path_axon)) if f.endswith('.swc')\n\u001b[0m\u001b[1;32m      4\u001b[0m                 and os.path.isfile(os.path.join(file_path_axon, f))]\n\u001b[1;32m      5\u001b[0m     file_list_dendrite=[f for f in sorted_alphanumeric(os.listdir(file_path_dendrite)) if f.endswith('.swc')\n",
      "\u001b[0;31mFileNotFoundError\u001b[0m: [Errno 2] No such file or directory: './dendrites_axonTermials/axon_terminals/'"
     ]
    }
   ],
   "source": [
    "file_path_axon = \"./dendrites_axonTermials/axon_terminals/\"\n",
    "file_path_dendrite = \"./dendrites_axonTermials/input_dendrites/\"\n",
    "synaptic_cleft=5\n",
    "\n",
    "adjacency, neuron_names = extract_adjacency(file_path_axon, file_path_dendrite, synaptic_cleft=synaptic_cleft)"
   ]
  },
  {
   "cell_type": "code",
   "execution_count": 16,
   "metadata": {
    "colab": {
     "base_uri": "https://localhost:8080/"
    },
    "executionInfo": {
     "elapsed": 506,
     "status": "ok",
     "timestamp": 1747398656552,
     "user": {
      "displayName": "MohammadJavad Vaez",
      "userId": "02324419329005506262"
     },
     "user_tz": -210
    },
    "id": "EcxEcL1MuVzb",
    "outputId": "615b6728-2bd0-485e-dce6-f2fea42619a2"
   },
   "outputs": [
    {
     "name": "stdout",
     "output_type": "stream",
     "text": [
      "(3163, 3163)\n",
      "int16\n"
     ]
    }
   ],
   "source": [
    "data = np.load(\"adjacency_synaptic_cleft_5.000um.npy\", allow_pickle=True)\n",
    "print(data.shape)\n",
    "print(data.dtype)"
   ]
  },
  {
   "cell_type": "code",
   "execution_count": 14,
   "metadata": {
    "colab": {
     "base_uri": "https://localhost:8080/"
    },
    "executionInfo": {
     "elapsed": 366,
     "status": "ok",
     "timestamp": 1747392906867,
     "user": {
      "displayName": "MohammadJavad Vaez",
      "userId": "02324419329005506262"
     },
     "user_tz": -210
    },
    "id": "EWQXsOlOVPqU",
    "outputId": "38bd1e6e-7703-4822-cb21-a5fc286bad69"
   },
   "outputs": [
    {
     "data": {
      "text/plain": [
       "array([[ 0,  0,  0, ...,  0,  0,  0],\n",
       "       [ 0,  0,  0, ..., 50,  0,  0],\n",
       "       [ 0,  0,  0, ...,  0,  0,  0],\n",
       "       ...,\n",
       "       [ 0,  0,  0, ...,  0,  0,  0],\n",
       "       [ 0,  0,  0, ...,  7,  0,  0],\n",
       "       [ 0,  0,  0, ...,  0,  0,  0]], dtype=int16)"
      ]
     },
     "execution_count": 14,
     "metadata": {},
     "output_type": "execute_result"
    }
   ],
   "source": [
    "data"
   ]
  },
  {
   "cell_type": "code",
   "execution_count": 17,
   "metadata": {
    "colab": {
     "base_uri": "https://localhost:8080/"
    },
    "executionInfo": {
     "elapsed": 174442,
     "status": "ok",
     "timestamp": 1747398837519,
     "user": {
      "displayName": "MohammadJavad Vaez",
      "userId": "02324419329005506262"
     },
     "user_tz": -210
    },
    "id": "fpzDt8jDWBFa",
    "outputId": "b6f9ef6a-bea5-47c7-e97d-ad78e3dcff52"
   },
   "outputs": [
    {
     "name": "stdout",
     "output_type": "stream",
     "text": [
      "Data shape: (3163, 3163)\n",
      "Neuron names count: 3163\n",
      "Data successfully saved to adjacency_with_neuron_names.xlsx\n"
     ]
    }
   ],
   "source": [
    "import numpy as np\n",
    "import pandas as pd\n",
    "\n",
    "# Load adjacency data\n",
    "data = np.load(\"adjacency_synaptic_cleft_5.000um.npy\", allow_pickle=True)\n",
    "\n",
    "# Load neuron names from a plain text file\n",
    "with open(\"neuron_names.txt\", \"r\") as f:\n",
    "    neuron_names = [line.strip() for line in f.readlines()]  # Read lines and remove extra spaces/newlines\n",
    "\n",
    "# Verify dimensions\n",
    "print(f\"Data shape: {data.shape}\")\n",
    "print(f\"Neuron names count: {len(neuron_names)}\")\n",
    "\n",
    "# Ensure dimensions match\n",
    "if data.shape[0] != len(neuron_names):\n",
    "    raise ValueError(\"The number of neurons does not match the adjacency matrix dimensions.\")\n",
    "\n",
    "# Create a DataFrame\n",
    "df = pd.DataFrame(data, index=neuron_names, columns=neuron_names)\n",
    "\n",
    "# Save to Excel\n",
    "output_file = \"adjacency_with_neuron_names.xlsx\"\n",
    "df.to_excel(output_file, index=True)\n",
    "\n",
    "print(f\"Data successfully saved to {output_file}\")"
   ]
  }
 ],
 "metadata": {
  "colab": {
   "authorship_tag": "ABX9TyPa6c5JLZ1HI6dBhGl1wLm9",
   "provenance": []
  },
  "kernelspec": {
   "display_name": "Python 3",
   "name": "python3"
  },
  "language_info": {
   "name": "python"
  }
 },
 "nbformat": 4,
 "nbformat_minor": 0
}
